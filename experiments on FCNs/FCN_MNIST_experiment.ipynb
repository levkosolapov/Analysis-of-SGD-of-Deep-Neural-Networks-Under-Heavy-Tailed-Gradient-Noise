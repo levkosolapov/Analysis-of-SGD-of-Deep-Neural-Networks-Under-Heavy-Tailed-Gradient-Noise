{
 "cells": [
  {
   "cell_type": "code",
   "execution_count": 1,
   "metadata": {
    "ExecuteTime": {
     "end_time": "2021-03-24T00:37:31.160893Z",
     "start_time": "2021-03-24T00:37:31.158427Z"
    }
   },
   "outputs": [],
   "source": [
    "from google.colab import drive\n",
    "from google.colab import files\n",
    "\n",
    "drive.mount('/content/gdrive')"
   ]
  },
  {
   "cell_type": "code",
   "execution_count": 2,
   "metadata": {
    "ExecuteTime": {
     "end_time": "2021-03-24T00:37:32.175675Z",
     "start_time": "2021-03-24T00:37:31.163205Z"
    }
   },
   "outputs": [],
   "source": [
    "import numpy as np\n",
    "\n",
    "import os\n",
    "\n",
    "import torch\n",
    "import torch.nn as nn\n",
    "import torch.nn.functional as F\n",
    "import torch.optim as optim\n",
    "from torch.autograd import Variable\n",
    "\n",
    "from torch.utils.data import DataLoader\n",
    "\n",
    "from scipy import stats\n",
    "from scipy.stats import norminvgauss, norm, pareto, levy_stable\n",
    "\n",
    "import random\n",
    "\n",
    "import torchvision\n",
    "\n",
    "import tqdm\n",
    "from tqdm import trange\n",
    "\n",
    "import pandas as pd\n",
    "import csv\n",
    "\n",
    "\n",
    "from IPython import display\n",
    "import matplotlib.pyplot as plt\n",
    "import seaborn as sns\n",
    "%matplotlib inline"
   ]
  },
  {
   "cell_type": "code",
   "execution_count": 3,
   "metadata": {
    "ExecuteTime": {
     "end_time": "2021-03-24T00:37:32.190677Z",
     "start_time": "2021-03-24T00:37:32.177232Z"
    }
   },
   "outputs": [],
   "source": [
    "def get_accuracy(model, dataloader, device):\n",
    "    correct = 0\n",
    "    with torch.no_grad():\n",
    "        for x, y in dataloader:\n",
    "            x = x.to(device)\n",
    "            y = y.to(device)\n",
    "            prediction = model(x).argmax(dim=-1, keepdim=True)\n",
    "            correct += prediction.eq(y.view_as(prediction)).sum().item()\n",
    "    return correct / len(dataloader.dataset)\n",
    "\n",
    "\n",
    "class Monitor:\n",
    "    def __init__(self):\n",
    "        if hasattr(tqdm.tqdm, '_instances'):\n",
    "            [*map(tqdm.tqdm._decr_instances, list(tqdm.tqdm._instances))]\n",
    "\n",
    "        self.learning_curve = []\n",
    "        self.train_accuracy_curve = []\n",
    "        self.val_accuracy_curve = []\n",
    "        self.best_val_accuracy = 0\n",
    "        self.best_val_epoch = 0\n",
    "\n",
    "    def add_loss_value(self, value):\n",
    "        self.learning_curve.append(value)\n",
    "\n",
    "    def add_train_accuracy_value(self, value):\n",
    "        self.train_accuracy_curve.append(value)\n",
    "\n",
    "    def add_val_accuracy_value(self, value):\n",
    "        self.val_accuracy_curve.append(value)\n",
    "\n",
    "        if value > self.best_val_accuracy:\n",
    "            self.best_val_accuracy = value\n",
    "            self.best_val_epoch = len(self.val_accuracy_curve)\n",
    "\n",
    "    def show(self):\n",
    "        display.clear_output(wait=True)\n",
    "        f, axes = plt.subplots(1, 2, figsize=(15, 3))\n",
    "        axes[0].set_title('Loss')\n",
    "        axes[0].plot(self.learning_curve)\n",
    "\n",
    "        last_train_accuracy = self.train_accuracy_curve[-1]\n",
    "        last_val_accuracy = self.val_accuracy_curve[-1]\n",
    "        best_val_accuracy = self.best_val_accuracy\n",
    "        best_val_accuracy = self.best_val_accuracy\n",
    "\n",
    "        axes[1].set_title(f'Train {last_train_accuracy:.4f}, val {last_val_accuracy:.4f}, '\n",
    "                          f'max val {self.best_val_accuracy:.4f} at {self.best_val_epoch}')\n",
    "        axes[1].plot(self.train_accuracy_curve)\n",
    "        axes[1].plot(self.val_accuracy_curve)\n",
    "\n",
    "        plt.tight_layout()\n",
    "        plt.show()\n",
    "\n",
    "\n",
    "def set_random_seeds(seed_value=0, device='cpu'):\n",
    "    '''source https://forums.fast.ai/t/solved-reproducibility-where-is-the-randomness-coming-in/31628/5'''\n",
    "    np.random.seed(seed_value)\n",
    "    torch.manual_seed(seed_value)\n",
    "    random.seed(seed_value)\n",
    "    if device != 'cpu':\n",
    "        torch.cuda.manual_seed(seed_value)\n",
    "        torch.cuda.manual_seed_all(seed_value)\n",
    "        torch.backends.cudnn.deterministic = True\n",
    "        torch.backends.cudnn.benchmark = False"
   ]
  },
  {
   "cell_type": "code",
   "execution_count": 4,
   "metadata": {
    "ExecuteTime": {
     "end_time": "2021-03-24T00:37:32.305649Z",
     "start_time": "2021-03-24T00:37:32.192089Z"
    }
   },
   "outputs": [],
   "source": [
    "print(torch.cuda.device_count())\n",
    "print(torch.cuda.get_device_name(0))"
   ]
  },
  {
   "cell_type": "markdown",
   "metadata": {},
   "source": [
    "## 1 Fully-connected network (FCN) on the MNIST "
   ]
  },
  {
   "cell_type": "code",
   "execution_count": 5,
   "metadata": {
    "ExecuteTime": {
     "end_time": "2021-03-24T00:37:32.374282Z",
     "start_time": "2021-03-24T00:37:32.307876Z"
    }
   },
   "outputs": [],
   "source": [
    "class FullyConnected(nn.Module):\n",
    "\n",
    "    def __init__(self, input_dim=28*28, width=16, depth=3, num_classes=10):\n",
    "        super(FullyConnected, self).__init__()\n",
    "        self.input_dim = input_dim\n",
    "        self.width = width\n",
    "        self.depth = depth\n",
    "        self.num_classes = num_classes\n",
    "\n",
    "        layers = self.get_layers()\n",
    "\n",
    "        self.fcn = nn.Sequential(\n",
    "            nn.Linear(self.input_dim, self.width, bias=False),\n",
    "            nn.ReLU(inplace=True),\n",
    "            *layers,\n",
    "            nn.Linear(self.width, self.num_classes, bias=False),\n",
    "        )\n",
    "\n",
    "    def get_layers(self):\n",
    "\n",
    "        layers = []\n",
    "        for _ in range(self.depth - 2):\n",
    "            layers.append(nn.Linear(self.width, self.width, bias=False))\n",
    "            layers.append(nn.ReLU())\n",
    "        return layers\n",
    "\n",
    "    def forward(self, x):\n",
    "        r\"\"\"\n",
    "        Parameters\n",
    "        ----------\n",
    "        x : torch.Tensor\n",
    "            of shape [batch_size, channels_n, height, width]\n",
    "        \n",
    "        Returns\n",
    "        -------\n",
    "        y : torch.Tensor\n",
    "            of shape [batch_size, classes_n]\n",
    "        \"\"\"\n",
    "        x = x.view(x.size(0), self.input_dim)\n",
    "        x = self.fcn(x)\n",
    "        return x"
   ]
  },
  {
   "cell_type": "code",
   "execution_count": 6,
   "metadata": {
    "ExecuteTime": {
     "end_time": "2021-03-24T00:37:32.496045Z",
     "start_time": "2021-03-24T00:37:32.381189Z"
    }
   },
   "outputs": [
    {
     "name": "stderr",
     "output_type": "stream",
     "text": [
      "/home/dimitry/anaconda3/lib/python3.7/site-packages/torch/cuda/__init__.py:52: UserWarning: CUDA initialization: Found no NVIDIA driver on your system. Please check that you have an NVIDIA GPU and installed a driver from http://www.nvidia.com/Download/index.aspx (Triggered internally at  /pytorch/c10/cuda/CUDAFunctions.cpp:100.)\n",
      "  return torch._C._cuda_getDeviceCount() > 0\n"
     ]
    }
   ],
   "source": [
    "# we choose the device that we will work on --- GPU or CPU\n",
    "device = torch.device('cuda:0' if torch.cuda.is_available() else 'cpu')"
   ]
  },
  {
   "cell_type": "markdown",
   "metadata": {},
   "source": [
    "# 2 Training procedure"
   ]
  },
  {
   "cell_type": "code",
   "execution_count": 7,
   "metadata": {
    "ExecuteTime": {
     "end_time": "2021-03-24T00:37:32.565451Z",
     "start_time": "2021-03-24T00:37:32.504695Z"
    }
   },
   "outputs": [],
   "source": [
    "# Method for gathering gradients from NN\n",
    "def get_grads(model):\n",
    "    grads = []\n",
    "    for param in model.parameters():\n",
    "        if param.requires_grad == True:\n",
    "            grads.append(param.grad.view(-1))\n",
    "    grad_flat = torch.cat(grads)\n",
    "    return grad_flat\n",
    "\n",
    "def save_grads(model, optimizer, loss_function, train_loader, device, filepath, log_num_iter):\n",
    "    with open(filepath + f'_epoch_logiter_{log_num_iter}.npy', 'ab') as file:\n",
    "\n",
    "        for model_input_gr, target_gr in train_loader:\n",
    "            model_input_gr = model_input_gr.to(device)\n",
    "            target_gr = target_gr.to(device)\n",
    "            model_output_gr = model(model_input_gr)\n",
    "            loss_gr= loss_function(model_output_gr, target_gr)\n",
    "            optimizer.zero_grad()\n",
    "            #calc the gradient on batch\n",
    "            loss_gr.backward()\n",
    "              #store the gradient\n",
    "              #Full gradient will be calculated later, \n",
    "              #as mean of the saved gradients of all batches \n",
    "            grad = get_grads(model).cpu()\n",
    "            np.save(file, grad.numpy())\n",
    "\n",
    "\n",
    "def train(model, optimizer, loss_function, train_loader, val_loader, device, filepath, epochs=1, plot_each=1, log_iter=100):\n",
    "    # send the model to that device\n",
    "    model = model.to(device)\n",
    "    monitor = Monitor()\n",
    "    \n",
    "    log_num_iter=0\n",
    "    for epoch in trange(epochs):\n",
    "        model.train()\n",
    "        \n",
    "        for iter, (model_input, target)  in enumerate(train_loader):\n",
    "            # send data to device\n",
    "            model_input = model_input.to(device)\n",
    "            target = target.to(device)\n",
    "            # calculate outputs and loss\n",
    "            model_output = model(model_input)\n",
    "            loss = loss_function(model_output, target)\n",
    "            # update model weights\n",
    "            optimizer.zero_grad()\n",
    "            loss.backward()\n",
    "            optimizer.step()        \n",
    "            # do some visualization\n",
    "            monitor.add_loss_value(loss.item())\n",
    "            #calculate grad on iteration\n",
    "            if (iter+1) % log_iter == 0:\n",
    "                log_num_iter+=1\n",
    "                with open(filepath + f'logiter_{100*log_num_iter}.npy', 'ab') as file:\n",
    "                    for model_input_gr, target_gr in train_loader:\n",
    "                        model_input_gr = model_input_gr.to(device)\n",
    "                        target_gr = target_gr.to(device)\n",
    "                        model_output_gr = model(model_input_gr)\n",
    "                        loss_gr= loss_function(model_output_gr, target_gr)\n",
    "                        optimizer.zero_grad()\n",
    "                        #calc the gradient on batch\n",
    "                        loss_gr.backward()\n",
    "                        #store the gradient\n",
    "                        #Full gradient will be calculated later, \n",
    "                        #as mean of the saved gradients of all batches \n",
    "                        grad = get_grads(model).cpu()\n",
    "                        np.save(file, grad.numpy())\n",
    "        # evaluate the model\n",
    "        model.eval()\n",
    "        train_accuracy = get_accuracy(model, train_loader, device)\n",
    "        val_accuracy = get_accuracy(model, val_loader, device)\n",
    "        monitor.add_train_accuracy_value(train_accuracy)\n",
    "        monitor.add_val_accuracy_value(val_accuracy)\n",
    "        if epoch % plot_each == 0:\n",
    "            monitor.show()\n",
    "\n",
    "    return model\n"
   ]
  },
  {
   "cell_type": "markdown",
   "metadata": {},
   "source": [
    "# 3 SGN and Alpha calculating"
   ]
  },
  {
   "cell_type": "code",
   "execution_count": 8,
   "metadata": {
    "ExecuteTime": {
     "end_time": "2021-03-24T00:37:32.672133Z",
     "start_time": "2021-03-24T00:37:32.571704Z"
    }
   },
   "outputs": [],
   "source": [
    "def alpha_estimator(x):\n",
    "\n",
    "    K = len(x)\n",
    "    list1 = np.array([d for d in range (1, K // 2 + 1) if K % d == 0] + [K])\n",
    "    difference = abs(np.sqrt(K) - list1)\n",
    "    K_1 = list1[np.argmin(difference)]\n",
    "    K_2 = int(K/K_1)\n",
    "    y = np.zeros(K_2)\n",
    "    for i in range(K_2):\n",
    "        y[i] = sum((x[j + (i-1) * K_1] for j in range(K_1)))\n",
    "\n",
    "    return 1 / ((1/np.log(K_1)) * ((1/K_2) * sum(np.log(abs(y))) - (1/len(x)) * sum(np.log(abs(x)))))\n",
    "\n",
    "# calculates mean alphas for every iteration and store them. Also store sgn samples.\n",
    "def sgn_data_research(filepath, n_batches, epochs, log_iter, n_params):    \n",
    "    total_iterations = epochs * n_batches / log_iter\n",
    "    alphas = []\n",
    "    sgn_storage = []\n",
    "    for iteration in range(log_iter, int(total_iterations * log_iter) + 1, log_iter):\n",
    "        batch_grads = []\n",
    "        with open(filepath + f'logiter_{iteration}.npy', 'rb') as file:\n",
    "            for _ in range(n_batches):\n",
    "                batch_grads.append(np.load(file))\n",
    "                \n",
    "        # delete batch_grads file to avoid ssd memory overflow         \n",
    "        if os.path.isfile(filepath + f'logiter_{iteration}.npy'): \n",
    "            os.remove(filepath + f'logiter_{iteration}.npy') \n",
    "        else: \n",
    "            print(filepath + f\"logiter_{iteration}.npy doesn't exists!\")\n",
    "        \n",
    "        sgn = (np.array(batch_grads) - np.array(batch_grads).sum(axis=0) / n_batches).T\n",
    "        del(batch_grads)\n",
    "        # delete non-active neuron's sgn (zero-vectors sgn)\n",
    "        sgn = sgn[~np.any(sgn == 0, axis=1), :]\n",
    "        alphas.append(np.apply_along_axis(alpha_estimator, axis=1, arr=sgn))\n",
    "        sgn_storage.append(sgn[[i for i in range(0, sgn.shape[0], 400)]])\n",
    "        del(sgn)\n",
    "    \n",
    "    sgn_storage = np.array(sgn_storage)\n",
    "    with open(filepath + 'sgn_samples.npy', 'wb') as file:\n",
    "        np.save(file, sgn_storage)\n",
    "        \n",
    "    print('SGN samples are saved!')\n",
    "    del(sgn_storage)\n",
    "    \n",
    "    mean_alphas = []\n",
    "    for alpha_vec in alphas:\n",
    "        mean_alphas.append(alpha_vec.mean())\n",
    "    with open(filepath + 'mean_alphas.npy', 'wb') as file:\n",
    "        np.save(file, np.array(mean_alphas))\n",
    "        \n",
    "    print(\"alpha's estimations are saved!\")    \n",
    "    del(alphas)\n",
    "    del(mean_alphas)\n",
    "    "
   ]
  },
  {
   "cell_type": "markdown",
   "metadata": {},
   "source": [
    "# 4 Experiment evaluation method\n"
   ]
  },
  {
   "cell_type": "code",
   "execution_count": 9,
   "metadata": {
    "ExecuteTime": {
     "end_time": "2021-03-24T00:37:32.758542Z",
     "start_time": "2021-03-24T00:37:32.676545Z"
    }
   },
   "outputs": [],
   "source": [
    "# function launch whole experiment\n",
    "def experimetn_eval(filepath, model_hyp_params, train_data, val_data, input_dim, num_classes, log_iter, data_len):\n",
    "    # calculating some params for experiment eval\n",
    "    n_params = input_dim * model_hyp_params['width'] + (model_hyp_params['depth'] - 2) * model_hyp_params['width']**2 + model_hyp_params['width'] * num_classes\n",
    "    n_batches = data_len // model_hyp_params['batch_size']\n",
    "    total_iterations = model_hyp_params['epochs'] * (data_len / model_hyp_params['batch_size']) / log_iter\n",
    "    \n",
    "    # creating folders and filepaths for data aand picture storage\n",
    "    exp_setup = 'width_' + str(model_hyp_params['width']) + '_depth_' + str(model_hyp_params['depth']) + '_batch_' + str(model_hyp_params['batch_size'])\n",
    "    os.mkdir(filepath + exp_setup)\n",
    "    filepath = filepath + exp_setup + '/'\n",
    "    \n",
    "    print(f'Total iterations: {total_iterations}')\n",
    "    \n",
    "    # trainig model. storing gradients \n",
    "    train_loader = torch.utils.data.DataLoader(train_data, batch_size=model_hyp_params['batch_size'], num_workers=2)\n",
    "    val_loader = torch.utils.data.DataLoader(val_data, batch_size=model_hyp_params['batch_size'], num_workers=2)\n",
    "    \n",
    "    model = FullyConnected(input_dim=input_dim, width=model_hyp_params['width'], depth=model_hyp_params['depth'], num_classes=num_classes)\n",
    "    loss_function = torch.nn.CrossEntropyLoss()\n",
    "    optimizer = torch.optim.SGD(model.parameters(), lr=model_hyp_params['lr'])\n",
    "    mini_batch_model = train(model, optimizer, loss_function,\n",
    "                                 train_loader, val_loader,\n",
    "                                 device, filepath=filepath, epochs=model_hyp_params['epochs'],\n",
    "                                 log_iter=log_iter)\n",
    "    # calculating sgn and alpha's estimation\n",
    "    sgn_data_research(filepath, n_batches, model_hyp_params['epochs'], log_iter, n_params)"
   ]
  },
  {
   "cell_type": "markdown",
   "metadata": {},
   "source": [
    "# 5 Experiment"
   ]
  },
  {
   "cell_type": "code",
   "execution_count": 10,
   "metadata": {
    "ExecuteTime": {
     "end_time": "2021-03-24T00:37:33.108067Z",
     "start_time": "2021-03-24T00:37:32.763742Z"
    }
   },
   "outputs": [],
   "source": [
    "from sklearn.model_selection import ParameterGrid\n",
    "from torchvision.datasets import MNIST\n",
    "\n",
    "mnist_train = MNIST(root = './', train=True, download=True, \n",
    "                    transform=torchvision.transforms.ToTensor())\n",
    "mnist_val = MNIST(root = './', train=False, download=True, \n",
    "                  transform=torchvision.transforms.ToTensor())\n",
    "\n",
    "MNIST_train_len = mnist_train.targets.shape[0]\n",
    "\n",
    "set_random_seeds(device=device)\n",
    "\n",
    "# write your filepath to store all data\n",
    "filepath = 'exp_storage/'\n",
    "\n",
    "param_grid = {'batch_size': [50, 100, 150, 200, 300],\n",
    "              'width': [16, 32, 64],\n",
    "              'depth': [2, 3, 4, 5],\n",
    "              'lr': [1e-1],\n",
    "              'epochs': [10]}\n",
    "\n",
    "\n",
    "input_dim = 28*28\n",
    "num_classes = 10\n",
    "log_iter = 100"
   ]
  },
  {
   "cell_type": "code",
   "execution_count": 11,
   "metadata": {
    "ExecuteTime": {
     "end_time": "2021-03-24T00:37:55.806697Z",
     "start_time": "2021-03-24T00:37:33.109182Z"
    }
   },
   "outputs": [
    {
     "data": {
      "image/png": "[encoded data removed]",
      "text/plain": [
       "<Figure size 1080x216 with 2 Axes>"
      ]
     },
     "metadata": {
      "needs_background": "light"
     },
     "output_type": "display_data"
    },
    {
     "name": "stderr",
     "output_type": "stream",
     "text": [
      "100%|██████████| 2/2 [00:18<00:00,  9.24s/it]\n"
     ]
    },
    {
     "name": "stdout",
     "output_type": "stream",
     "text": [
      "11389\n",
      "11383\n",
      "SGN samples are saved!\n",
      "alpha's estimations are saved!\n"
     ]
    }
   ],
   "source": [
    "for model_params in ParameterGrid(param_grid):\n",
    "    experimetn_eval(filepath=filepath, \n",
    "                    model_hyp_params=model_params,\n",
    "                    train_data=mnist_train, val_data=mnist_val, \n",
    "                    input_dim=input_dim, \n",
    "                    num_classes=num_classes, \n",
    "                    log_iter=log_iter, \n",
    "                    data_len=MNIST_train_len)"
   ]
  }
 ],
 "metadata": {
  "kernelspec": {
   "display_name": "Python 3",
   "language": "python",
   "name": "python3"
  },
  "language_info": {
   "codemirror_mode": {
    "name": "ipython",
    "version": 3
   },
   "file_extension": ".py",
   "mimetype": "text/x-python",
   "name": "python",
   "nbconvert_exporter": "python",
   "pygments_lexer": "ipython3",
   "version": "3.7.1"
  }
 },
 "nbformat": 4,
 "nbformat_minor": 2
}
